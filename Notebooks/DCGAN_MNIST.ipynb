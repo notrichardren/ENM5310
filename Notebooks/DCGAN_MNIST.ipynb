{
  "nbformat": 4,
  "nbformat_minor": 0,
  "metadata": {
    "colab": {
      "name": "DCGAN_MNIST.ipynb",
      "provenance": [],
      "collapsed_sections": []
    },
    "kernelspec": {
      "name": "python3",
      "display_name": "Python 3"
    },
    "language_info": {
      "name": "python"
    },
    "accelerator": "GPU",
    "widgets": {
      "application/vnd.jupyter.widget-state+json": {
        "f19e437150074fabb90cf19c2caf71cb": {
          "model_module": "@jupyter-widgets/controls",
          "model_name": "HBoxModel",
          "state": {
            "_view_name": "HBoxView",
            "_dom_classes": [],
            "_model_name": "HBoxModel",
            "_view_module": "@jupyter-widgets/controls",
            "_model_module_version": "1.5.0",
            "_view_count": null,
            "_view_module_version": "1.5.0",
            "box_style": "",
            "layout": "IPY_MODEL_107dec2af62546e1aba6e2e3b94ab87b",
            "_model_module": "@jupyter-widgets/controls",
            "children": [
              "IPY_MODEL_2266a0076c70470ab09afa47794ce698",
              "IPY_MODEL_4eed99ffde394815930c1f0fe09d5ff4"
            ]
          }
        },
        "107dec2af62546e1aba6e2e3b94ab87b": {
          "model_module": "@jupyter-widgets/base",
          "model_name": "LayoutModel",
          "state": {
            "_view_name": "LayoutView",
            "grid_template_rows": null,
            "right": null,
            "justify_content": null,
            "_view_module": "@jupyter-widgets/base",
            "overflow": null,
            "_model_module_version": "1.2.0",
            "_view_count": null,
            "flex_flow": null,
            "width": null,
            "min_width": null,
            "border": null,
            "align_items": null,
            "bottom": null,
            "_model_module": "@jupyter-widgets/base",
            "top": null,
            "grid_column": null,
            "overflow_y": null,
            "overflow_x": null,
            "grid_auto_flow": null,
            "grid_area": null,
            "grid_template_columns": null,
            "flex": null,
            "_model_name": "LayoutModel",
            "justify_items": null,
            "grid_row": null,
            "max_height": null,
            "align_content": null,
            "visibility": null,
            "align_self": null,
            "height": null,
            "min_height": null,
            "padding": null,
            "grid_auto_rows": null,
            "grid_gap": null,
            "max_width": null,
            "order": null,
            "_view_module_version": "1.2.0",
            "grid_template_areas": null,
            "object_position": null,
            "object_fit": null,
            "grid_auto_columns": null,
            "margin": null,
            "display": null,
            "left": null
          }
        },
        "2266a0076c70470ab09afa47794ce698": {
          "model_module": "@jupyter-widgets/controls",
          "model_name": "FloatProgressModel",
          "state": {
            "_view_name": "ProgressView",
            "style": "IPY_MODEL_bba01e085a0a43adb52aa9a2e231d642",
            "_dom_classes": [],
            "description": "",
            "_model_name": "FloatProgressModel",
            "bar_style": "success",
            "max": 9912422,
            "_view_module": "@jupyter-widgets/controls",
            "_model_module_version": "1.5.0",
            "value": 9912422,
            "_view_count": null,
            "_view_module_version": "1.5.0",
            "orientation": "horizontal",
            "min": 0,
            "description_tooltip": null,
            "_model_module": "@jupyter-widgets/controls",
            "layout": "IPY_MODEL_c7be715cff3842c4aaef26e40720595e"
          }
        },
        "4eed99ffde394815930c1f0fe09d5ff4": {
          "model_module": "@jupyter-widgets/controls",
          "model_name": "HTMLModel",
          "state": {
            "_view_name": "HTMLView",
            "style": "IPY_MODEL_98efe7b50d3b4192aa234fb26ee51e46",
            "_dom_classes": [],
            "description": "",
            "_model_name": "HTMLModel",
            "placeholder": "​",
            "_view_module": "@jupyter-widgets/controls",
            "_model_module_version": "1.5.0",
            "value": " 9913344/? [05:24&lt;00:00, 30529.69it/s]",
            "_view_count": null,
            "_view_module_version": "1.5.0",
            "description_tooltip": null,
            "_model_module": "@jupyter-widgets/controls",
            "layout": "IPY_MODEL_21c6209d410245fba27e84e6732e2247"
          }
        },
        "bba01e085a0a43adb52aa9a2e231d642": {
          "model_module": "@jupyter-widgets/controls",
          "model_name": "ProgressStyleModel",
          "state": {
            "_view_name": "StyleView",
            "_model_name": "ProgressStyleModel",
            "description_width": "initial",
            "_view_module": "@jupyter-widgets/base",
            "_model_module_version": "1.5.0",
            "_view_count": null,
            "_view_module_version": "1.2.0",
            "bar_color": null,
            "_model_module": "@jupyter-widgets/controls"
          }
        },
        "c7be715cff3842c4aaef26e40720595e": {
          "model_module": "@jupyter-widgets/base",
          "model_name": "LayoutModel",
          "state": {
            "_view_name": "LayoutView",
            "grid_template_rows": null,
            "right": null,
            "justify_content": null,
            "_view_module": "@jupyter-widgets/base",
            "overflow": null,
            "_model_module_version": "1.2.0",
            "_view_count": null,
            "flex_flow": null,
            "width": null,
            "min_width": null,
            "border": null,
            "align_items": null,
            "bottom": null,
            "_model_module": "@jupyter-widgets/base",
            "top": null,
            "grid_column": null,
            "overflow_y": null,
            "overflow_x": null,
            "grid_auto_flow": null,
            "grid_area": null,
            "grid_template_columns": null,
            "flex": null,
            "_model_name": "LayoutModel",
            "justify_items": null,
            "grid_row": null,
            "max_height": null,
            "align_content": null,
            "visibility": null,
            "align_self": null,
            "height": null,
            "min_height": null,
            "padding": null,
            "grid_auto_rows": null,
            "grid_gap": null,
            "max_width": null,
            "order": null,
            "_view_module_version": "1.2.0",
            "grid_template_areas": null,
            "object_position": null,
            "object_fit": null,
            "grid_auto_columns": null,
            "margin": null,
            "display": null,
            "left": null
          }
        },
        "98efe7b50d3b4192aa234fb26ee51e46": {
          "model_module": "@jupyter-widgets/controls",
          "model_name": "DescriptionStyleModel",
          "state": {
            "_view_name": "StyleView",
            "_model_name": "DescriptionStyleModel",
            "description_width": "",
            "_view_module": "@jupyter-widgets/base",
            "_model_module_version": "1.5.0",
            "_view_count": null,
            "_view_module_version": "1.2.0",
            "_model_module": "@jupyter-widgets/controls"
          }
        },
        "21c6209d410245fba27e84e6732e2247": {
          "model_module": "@jupyter-widgets/base",
          "model_name": "LayoutModel",
          "state": {
            "_view_name": "LayoutView",
            "grid_template_rows": null,
            "right": null,
            "justify_content": null,
            "_view_module": "@jupyter-widgets/base",
            "overflow": null,
            "_model_module_version": "1.2.0",
            "_view_count": null,
            "flex_flow": null,
            "width": null,
            "min_width": null,
            "border": null,
            "align_items": null,
            "bottom": null,
            "_model_module": "@jupyter-widgets/base",
            "top": null,
            "grid_column": null,
            "overflow_y": null,
            "overflow_x": null,
            "grid_auto_flow": null,
            "grid_area": null,
            "grid_template_columns": null,
            "flex": null,
            "_model_name": "LayoutModel",
            "justify_items": null,
            "grid_row": null,
            "max_height": null,
            "align_content": null,
            "visibility": null,
            "align_self": null,
            "height": null,
            "min_height": null,
            "padding": null,
            "grid_auto_rows": null,
            "grid_gap": null,
            "max_width": null,
            "order": null,
            "_view_module_version": "1.2.0",
            "grid_template_areas": null,
            "object_position": null,
            "object_fit": null,
            "grid_auto_columns": null,
            "margin": null,
            "display": null,
            "left": null
          }
        },
        "e33b8420281349779357572b0c068caa": {
          "model_module": "@jupyter-widgets/controls",
          "model_name": "HBoxModel",
          "state": {
            "_view_name": "HBoxView",
            "_dom_classes": [],
            "_model_name": "HBoxModel",
            "_view_module": "@jupyter-widgets/controls",
            "_model_module_version": "1.5.0",
            "_view_count": null,
            "_view_module_version": "1.5.0",
            "box_style": "",
            "layout": "IPY_MODEL_300cc6b11f4745f6ae14e645465590c0",
            "_model_module": "@jupyter-widgets/controls",
            "children": [
              "IPY_MODEL_3bcf11a7ba8140d781b297eaf38a8ba4",
              "IPY_MODEL_9762f76c5f4746d384bbf65cd3feb36c"
            ]
          }
        },
        "300cc6b11f4745f6ae14e645465590c0": {
          "model_module": "@jupyter-widgets/base",
          "model_name": "LayoutModel",
          "state": {
            "_view_name": "LayoutView",
            "grid_template_rows": null,
            "right": null,
            "justify_content": null,
            "_view_module": "@jupyter-widgets/base",
            "overflow": null,
            "_model_module_version": "1.2.0",
            "_view_count": null,
            "flex_flow": null,
            "width": null,
            "min_width": null,
            "border": null,
            "align_items": null,
            "bottom": null,
            "_model_module": "@jupyter-widgets/base",
            "top": null,
            "grid_column": null,
            "overflow_y": null,
            "overflow_x": null,
            "grid_auto_flow": null,
            "grid_area": null,
            "grid_template_columns": null,
            "flex": null,
            "_model_name": "LayoutModel",
            "justify_items": null,
            "grid_row": null,
            "max_height": null,
            "align_content": null,
            "visibility": null,
            "align_self": null,
            "height": null,
            "min_height": null,
            "padding": null,
            "grid_auto_rows": null,
            "grid_gap": null,
            "max_width": null,
            "order": null,
            "_view_module_version": "1.2.0",
            "grid_template_areas": null,
            "object_position": null,
            "object_fit": null,
            "grid_auto_columns": null,
            "margin": null,
            "display": null,
            "left": null
          }
        },
        "3bcf11a7ba8140d781b297eaf38a8ba4": {
          "model_module": "@jupyter-widgets/controls",
          "model_name": "FloatProgressModel",
          "state": {
            "_view_name": "ProgressView",
            "style": "IPY_MODEL_f60c54300031462dbdf6025752680a84",
            "_dom_classes": [],
            "description": "",
            "_model_name": "FloatProgressModel",
            "bar_style": "success",
            "max": 28881,
            "_view_module": "@jupyter-widgets/controls",
            "_model_module_version": "1.5.0",
            "value": 28881,
            "_view_count": null,
            "_view_module_version": "1.5.0",
            "orientation": "horizontal",
            "min": 0,
            "description_tooltip": null,
            "_model_module": "@jupyter-widgets/controls",
            "layout": "IPY_MODEL_04855769c1d74011a131412ce7f193ed"
          }
        },
        "9762f76c5f4746d384bbf65cd3feb36c": {
          "model_module": "@jupyter-widgets/controls",
          "model_name": "HTMLModel",
          "state": {
            "_view_name": "HTMLView",
            "style": "IPY_MODEL_7ef297e96d68455391a6ac0ff41d14fa",
            "_dom_classes": [],
            "description": "",
            "_model_name": "HTMLModel",
            "placeholder": "​",
            "_view_module": "@jupyter-widgets/controls",
            "_model_module_version": "1.5.0",
            "value": " 29696/? [00:00&lt;00:00, 181424.98it/s]",
            "_view_count": null,
            "_view_module_version": "1.5.0",
            "description_tooltip": null,
            "_model_module": "@jupyter-widgets/controls",
            "layout": "IPY_MODEL_a03d0380f9c540c5a39eb4094420d69c"
          }
        },
        "f60c54300031462dbdf6025752680a84": {
          "model_module": "@jupyter-widgets/controls",
          "model_name": "ProgressStyleModel",
          "state": {
            "_view_name": "StyleView",
            "_model_name": "ProgressStyleModel",
            "description_width": "initial",
            "_view_module": "@jupyter-widgets/base",
            "_model_module_version": "1.5.0",
            "_view_count": null,
            "_view_module_version": "1.2.0",
            "bar_color": null,
            "_model_module": "@jupyter-widgets/controls"
          }
        },
        "04855769c1d74011a131412ce7f193ed": {
          "model_module": "@jupyter-widgets/base",
          "model_name": "LayoutModel",
          "state": {
            "_view_name": "LayoutView",
            "grid_template_rows": null,
            "right": null,
            "justify_content": null,
            "_view_module": "@jupyter-widgets/base",
            "overflow": null,
            "_model_module_version": "1.2.0",
            "_view_count": null,
            "flex_flow": null,
            "width": null,
            "min_width": null,
            "border": null,
            "align_items": null,
            "bottom": null,
            "_model_module": "@jupyter-widgets/base",
            "top": null,
            "grid_column": null,
            "overflow_y": null,
            "overflow_x": null,
            "grid_auto_flow": null,
            "grid_area": null,
            "grid_template_columns": null,
            "flex": null,
            "_model_name": "LayoutModel",
            "justify_items": null,
            "grid_row": null,
            "max_height": null,
            "align_content": null,
            "visibility": null,
            "align_self": null,
            "height": null,
            "min_height": null,
            "padding": null,
            "grid_auto_rows": null,
            "grid_gap": null,
            "max_width": null,
            "order": null,
            "_view_module_version": "1.2.0",
            "grid_template_areas": null,
            "object_position": null,
            "object_fit": null,
            "grid_auto_columns": null,
            "margin": null,
            "display": null,
            "left": null
          }
        },
        "7ef297e96d68455391a6ac0ff41d14fa": {
          "model_module": "@jupyter-widgets/controls",
          "model_name": "DescriptionStyleModel",
          "state": {
            "_view_name": "StyleView",
            "_model_name": "DescriptionStyleModel",
            "description_width": "",
            "_view_module": "@jupyter-widgets/base",
            "_model_module_version": "1.5.0",
            "_view_count": null,
            "_view_module_version": "1.2.0",
            "_model_module": "@jupyter-widgets/controls"
          }
        },
        "a03d0380f9c540c5a39eb4094420d69c": {
          "model_module": "@jupyter-widgets/base",
          "model_name": "LayoutModel",
          "state": {
            "_view_name": "LayoutView",
            "grid_template_rows": null,
            "right": null,
            "justify_content": null,
            "_view_module": "@jupyter-widgets/base",
            "overflow": null,
            "_model_module_version": "1.2.0",
            "_view_count": null,
            "flex_flow": null,
            "width": null,
            "min_width": null,
            "border": null,
            "align_items": null,
            "bottom": null,
            "_model_module": "@jupyter-widgets/base",
            "top": null,
            "grid_column": null,
            "overflow_y": null,
            "overflow_x": null,
            "grid_auto_flow": null,
            "grid_area": null,
            "grid_template_columns": null,
            "flex": null,
            "_model_name": "LayoutModel",
            "justify_items": null,
            "grid_row": null,
            "max_height": null,
            "align_content": null,
            "visibility": null,
            "align_self": null,
            "height": null,
            "min_height": null,
            "padding": null,
            "grid_auto_rows": null,
            "grid_gap": null,
            "max_width": null,
            "order": null,
            "_view_module_version": "1.2.0",
            "grid_template_areas": null,
            "object_position": null,
            "object_fit": null,
            "grid_auto_columns": null,
            "margin": null,
            "display": null,
            "left": null
          }
        },
        "2639b5083f8242bdbb2b0e039c69dde2": {
          "model_module": "@jupyter-widgets/controls",
          "model_name": "HBoxModel",
          "state": {
            "_view_name": "HBoxView",
            "_dom_classes": [],
            "_model_name": "HBoxModel",
            "_view_module": "@jupyter-widgets/controls",
            "_model_module_version": "1.5.0",
            "_view_count": null,
            "_view_module_version": "1.5.0",
            "box_style": "",
            "layout": "IPY_MODEL_db2307bf157243a29d1b181b57ed0e27",
            "_model_module": "@jupyter-widgets/controls",
            "children": [
              "IPY_MODEL_478b52fff8e549d58637f19bc603cc24",
              "IPY_MODEL_3d019cc8911b45dca437b4a503112bdd"
            ]
          }
        },
        "db2307bf157243a29d1b181b57ed0e27": {
          "model_module": "@jupyter-widgets/base",
          "model_name": "LayoutModel",
          "state": {
            "_view_name": "LayoutView",
            "grid_template_rows": null,
            "right": null,
            "justify_content": null,
            "_view_module": "@jupyter-widgets/base",
            "overflow": null,
            "_model_module_version": "1.2.0",
            "_view_count": null,
            "flex_flow": null,
            "width": null,
            "min_width": null,
            "border": null,
            "align_items": null,
            "bottom": null,
            "_model_module": "@jupyter-widgets/base",
            "top": null,
            "grid_column": null,
            "overflow_y": null,
            "overflow_x": null,
            "grid_auto_flow": null,
            "grid_area": null,
            "grid_template_columns": null,
            "flex": null,
            "_model_name": "LayoutModel",
            "justify_items": null,
            "grid_row": null,
            "max_height": null,
            "align_content": null,
            "visibility": null,
            "align_self": null,
            "height": null,
            "min_height": null,
            "padding": null,
            "grid_auto_rows": null,
            "grid_gap": null,
            "max_width": null,
            "order": null,
            "_view_module_version": "1.2.0",
            "grid_template_areas": null,
            "object_position": null,
            "object_fit": null,
            "grid_auto_columns": null,
            "margin": null,
            "display": null,
            "left": null
          }
        },
        "478b52fff8e549d58637f19bc603cc24": {
          "model_module": "@jupyter-widgets/controls",
          "model_name": "FloatProgressModel",
          "state": {
            "_view_name": "ProgressView",
            "style": "IPY_MODEL_a4687d7d268c442495975ee217b0d51c",
            "_dom_classes": [],
            "description": "",
            "_model_name": "FloatProgressModel",
            "bar_style": "success",
            "max": 1648877,
            "_view_module": "@jupyter-widgets/controls",
            "_model_module_version": "1.5.0",
            "value": 1648877,
            "_view_count": null,
            "_view_module_version": "1.5.0",
            "orientation": "horizontal",
            "min": 0,
            "description_tooltip": null,
            "_model_module": "@jupyter-widgets/controls",
            "layout": "IPY_MODEL_7fd703827c0046c5a8e18bdd20211e25"
          }
        },
        "3d019cc8911b45dca437b4a503112bdd": {
          "model_module": "@jupyter-widgets/controls",
          "model_name": "HTMLModel",
          "state": {
            "_view_name": "HTMLView",
            "style": "IPY_MODEL_e8ea3f38ae9c4994b3e362ebe6006fb0",
            "_dom_classes": [],
            "description": "",
            "_model_name": "HTMLModel",
            "placeholder": "​",
            "_view_module": "@jupyter-widgets/controls",
            "_model_module_version": "1.5.0",
            "value": " 1649664/? [00:44&lt;00:00, 36728.06it/s]",
            "_view_count": null,
            "_view_module_version": "1.5.0",
            "description_tooltip": null,
            "_model_module": "@jupyter-widgets/controls",
            "layout": "IPY_MODEL_33b46eff430545afba5f76dc062e08fe"
          }
        },
        "a4687d7d268c442495975ee217b0d51c": {
          "model_module": "@jupyter-widgets/controls",
          "model_name": "ProgressStyleModel",
          "state": {
            "_view_name": "StyleView",
            "_model_name": "ProgressStyleModel",
            "description_width": "initial",
            "_view_module": "@jupyter-widgets/base",
            "_model_module_version": "1.5.0",
            "_view_count": null,
            "_view_module_version": "1.2.0",
            "bar_color": null,
            "_model_module": "@jupyter-widgets/controls"
          }
        },
        "7fd703827c0046c5a8e18bdd20211e25": {
          "model_module": "@jupyter-widgets/base",
          "model_name": "LayoutModel",
          "state": {
            "_view_name": "LayoutView",
            "grid_template_rows": null,
            "right": null,
            "justify_content": null,
            "_view_module": "@jupyter-widgets/base",
            "overflow": null,
            "_model_module_version": "1.2.0",
            "_view_count": null,
            "flex_flow": null,
            "width": null,
            "min_width": null,
            "border": null,
            "align_items": null,
            "bottom": null,
            "_model_module": "@jupyter-widgets/base",
            "top": null,
            "grid_column": null,
            "overflow_y": null,
            "overflow_x": null,
            "grid_auto_flow": null,
            "grid_area": null,
            "grid_template_columns": null,
            "flex": null,
            "_model_name": "LayoutModel",
            "justify_items": null,
            "grid_row": null,
            "max_height": null,
            "align_content": null,
            "visibility": null,
            "align_self": null,
            "height": null,
            "min_height": null,
            "padding": null,
            "grid_auto_rows": null,
            "grid_gap": null,
            "max_width": null,
            "order": null,
            "_view_module_version": "1.2.0",
            "grid_template_areas": null,
            "object_position": null,
            "object_fit": null,
            "grid_auto_columns": null,
            "margin": null,
            "display": null,
            "left": null
          }
        },
        "e8ea3f38ae9c4994b3e362ebe6006fb0": {
          "model_module": "@jupyter-widgets/controls",
          "model_name": "DescriptionStyleModel",
          "state": {
            "_view_name": "StyleView",
            "_model_name": "DescriptionStyleModel",
            "description_width": "",
            "_view_module": "@jupyter-widgets/base",
            "_model_module_version": "1.5.0",
            "_view_count": null,
            "_view_module_version": "1.2.0",
            "_model_module": "@jupyter-widgets/controls"
          }
        },
        "33b46eff430545afba5f76dc062e08fe": {
          "model_module": "@jupyter-widgets/base",
          "model_name": "LayoutModel",
          "state": {
            "_view_name": "LayoutView",
            "grid_template_rows": null,
            "right": null,
            "justify_content": null,
            "_view_module": "@jupyter-widgets/base",
            "overflow": null,
            "_model_module_version": "1.2.0",
            "_view_count": null,
            "flex_flow": null,
            "width": null,
            "min_width": null,
            "border": null,
            "align_items": null,
            "bottom": null,
            "_model_module": "@jupyter-widgets/base",
            "top": null,
            "grid_column": null,
            "overflow_y": null,
            "overflow_x": null,
            "grid_auto_flow": null,
            "grid_area": null,
            "grid_template_columns": null,
            "flex": null,
            "_model_name": "LayoutModel",
            "justify_items": null,
            "grid_row": null,
            "max_height": null,
            "align_content": null,
            "visibility": null,
            "align_self": null,
            "height": null,
            "min_height": null,
            "padding": null,
            "grid_auto_rows": null,
            "grid_gap": null,
            "max_width": null,
            "order": null,
            "_view_module_version": "1.2.0",
            "grid_template_areas": null,
            "object_position": null,
            "object_fit": null,
            "grid_auto_columns": null,
            "margin": null,
            "display": null,
            "left": null
          }
        },
        "f5c225a4372f44c1b5507d43c2ce9c4f": {
          "model_module": "@jupyter-widgets/controls",
          "model_name": "HBoxModel",
          "state": {
            "_view_name": "HBoxView",
            "_dom_classes": [],
            "_model_name": "HBoxModel",
            "_view_module": "@jupyter-widgets/controls",
            "_model_module_version": "1.5.0",
            "_view_count": null,
            "_view_module_version": "1.5.0",
            "box_style": "",
            "layout": "IPY_MODEL_fd54e2fd55eb475a9e293c1359d86d5b",
            "_model_module": "@jupyter-widgets/controls",
            "children": [
              "IPY_MODEL_29315ba002a34fcc8f2db36de2bec901",
              "IPY_MODEL_8a69081acf124fa195739944e711ef8a"
            ]
          }
        },
        "fd54e2fd55eb475a9e293c1359d86d5b": {
          "model_module": "@jupyter-widgets/base",
          "model_name": "LayoutModel",
          "state": {
            "_view_name": "LayoutView",
            "grid_template_rows": null,
            "right": null,
            "justify_content": null,
            "_view_module": "@jupyter-widgets/base",
            "overflow": null,
            "_model_module_version": "1.2.0",
            "_view_count": null,
            "flex_flow": null,
            "width": null,
            "min_width": null,
            "border": null,
            "align_items": null,
            "bottom": null,
            "_model_module": "@jupyter-widgets/base",
            "top": null,
            "grid_column": null,
            "overflow_y": null,
            "overflow_x": null,
            "grid_auto_flow": null,
            "grid_area": null,
            "grid_template_columns": null,
            "flex": null,
            "_model_name": "LayoutModel",
            "justify_items": null,
            "grid_row": null,
            "max_height": null,
            "align_content": null,
            "visibility": null,
            "align_self": null,
            "height": null,
            "min_height": null,
            "padding": null,
            "grid_auto_rows": null,
            "grid_gap": null,
            "max_width": null,
            "order": null,
            "_view_module_version": "1.2.0",
            "grid_template_areas": null,
            "object_position": null,
            "object_fit": null,
            "grid_auto_columns": null,
            "margin": null,
            "display": null,
            "left": null
          }
        },
        "29315ba002a34fcc8f2db36de2bec901": {
          "model_module": "@jupyter-widgets/controls",
          "model_name": "FloatProgressModel",
          "state": {
            "_view_name": "ProgressView",
            "style": "IPY_MODEL_797d5fbe6e2a46089a4bdc0ed34311a6",
            "_dom_classes": [],
            "description": "",
            "_model_name": "FloatProgressModel",
            "bar_style": "success",
            "max": 4542,
            "_view_module": "@jupyter-widgets/controls",
            "_model_module_version": "1.5.0",
            "value": 4542,
            "_view_count": null,
            "_view_module_version": "1.5.0",
            "orientation": "horizontal",
            "min": 0,
            "description_tooltip": null,
            "_model_module": "@jupyter-widgets/controls",
            "layout": "IPY_MODEL_84b79bb4323845ee8b7c0478e5d500b4"
          }
        },
        "8a69081acf124fa195739944e711ef8a": {
          "model_module": "@jupyter-widgets/controls",
          "model_name": "HTMLModel",
          "state": {
            "_view_name": "HTMLView",
            "style": "IPY_MODEL_f299a2f75e8f4830a82276a6fd2680ed",
            "_dom_classes": [],
            "description": "",
            "_model_name": "HTMLModel",
            "placeholder": "​",
            "_view_module": "@jupyter-widgets/controls",
            "_model_module_version": "1.5.0",
            "value": " 5120/? [00:01&lt;00:00, 3110.21it/s]",
            "_view_count": null,
            "_view_module_version": "1.5.0",
            "description_tooltip": null,
            "_model_module": "@jupyter-widgets/controls",
            "layout": "IPY_MODEL_4d690b8a4a52438186895ab309b12866"
          }
        },
        "797d5fbe6e2a46089a4bdc0ed34311a6": {
          "model_module": "@jupyter-widgets/controls",
          "model_name": "ProgressStyleModel",
          "state": {
            "_view_name": "StyleView",
            "_model_name": "ProgressStyleModel",
            "description_width": "initial",
            "_view_module": "@jupyter-widgets/base",
            "_model_module_version": "1.5.0",
            "_view_count": null,
            "_view_module_version": "1.2.0",
            "bar_color": null,
            "_model_module": "@jupyter-widgets/controls"
          }
        },
        "84b79bb4323845ee8b7c0478e5d500b4": {
          "model_module": "@jupyter-widgets/base",
          "model_name": "LayoutModel",
          "state": {
            "_view_name": "LayoutView",
            "grid_template_rows": null,
            "right": null,
            "justify_content": null,
            "_view_module": "@jupyter-widgets/base",
            "overflow": null,
            "_model_module_version": "1.2.0",
            "_view_count": null,
            "flex_flow": null,
            "width": null,
            "min_width": null,
            "border": null,
            "align_items": null,
            "bottom": null,
            "_model_module": "@jupyter-widgets/base",
            "top": null,
            "grid_column": null,
            "overflow_y": null,
            "overflow_x": null,
            "grid_auto_flow": null,
            "grid_area": null,
            "grid_template_columns": null,
            "flex": null,
            "_model_name": "LayoutModel",
            "justify_items": null,
            "grid_row": null,
            "max_height": null,
            "align_content": null,
            "visibility": null,
            "align_self": null,
            "height": null,
            "min_height": null,
            "padding": null,
            "grid_auto_rows": null,
            "grid_gap": null,
            "max_width": null,
            "order": null,
            "_view_module_version": "1.2.0",
            "grid_template_areas": null,
            "object_position": null,
            "object_fit": null,
            "grid_auto_columns": null,
            "margin": null,
            "display": null,
            "left": null
          }
        },
        "f299a2f75e8f4830a82276a6fd2680ed": {
          "model_module": "@jupyter-widgets/controls",
          "model_name": "DescriptionStyleModel",
          "state": {
            "_view_name": "StyleView",
            "_model_name": "DescriptionStyleModel",
            "description_width": "",
            "_view_module": "@jupyter-widgets/base",
            "_model_module_version": "1.5.0",
            "_view_count": null,
            "_view_module_version": "1.2.0",
            "_model_module": "@jupyter-widgets/controls"
          }
        },
        "4d690b8a4a52438186895ab309b12866": {
          "model_module": "@jupyter-widgets/base",
          "model_name": "LayoutModel",
          "state": {
            "_view_name": "LayoutView",
            "grid_template_rows": null,
            "right": null,
            "justify_content": null,
            "_view_module": "@jupyter-widgets/base",
            "overflow": null,
            "_model_module_version": "1.2.0",
            "_view_count": null,
            "flex_flow": null,
            "width": null,
            "min_width": null,
            "border": null,
            "align_items": null,
            "bottom": null,
            "_model_module": "@jupyter-widgets/base",
            "top": null,
            "grid_column": null,
            "overflow_y": null,
            "overflow_x": null,
            "grid_auto_flow": null,
            "grid_area": null,
            "grid_template_columns": null,
            "flex": null,
            "_model_name": "LayoutModel",
            "justify_items": null,
            "grid_row": null,
            "max_height": null,
            "align_content": null,
            "visibility": null,
            "align_self": null,
            "height": null,
            "min_height": null,
            "padding": null,
            "grid_auto_rows": null,
            "grid_gap": null,
            "max_width": null,
            "order": null,
            "_view_module_version": "1.2.0",
            "grid_template_areas": null,
            "object_position": null,
            "object_fit": null,
            "grid_auto_columns": null,
            "margin": null,
            "display": null,
            "left": null
          }
        }
      }
    }
  },
  "cells": [
    {
      "cell_type": "code",
      "metadata": {
        "id": "0qgERrYtyrsL"
      },
      "source": [
        "import jax.numpy as np\n",
        "from jax import random\n",
        "from jax.experimental import stax\n",
        "from jax.experimental.stax import BatchNorm, Dense, Flatten, Relu, Tanh, Sigmoid\n",
        "from jax.experimental import optimizers\n",
        "from jax.nn import initializers, leaky_relu\n",
        "from jax.scipy.special import expit as sigmoid\n",
        "from jax import lax\n",
        "from jax import jit, grad, vmap\n",
        "\n",
        "import matplotlib.pyplot as plt\n",
        "from sklearn.metrics import confusion_matrix\n",
        "import torch\n",
        "from torchvision import datasets, transforms\n",
        "\n",
        "import numpy as onp\n",
        "from tqdm import trange\n",
        "import itertools\n",
        "from functools import partial\n",
        "import time "
      ],
      "execution_count": null,
      "outputs": []
    },
    {
      "cell_type": "code",
      "metadata": {
        "id": "XNZX0h6GsFf7"
      },
      "source": [
        "# Re-define stax convolution without biases and leaky relu with custom slope \n",
        "# (according to https://arxiv.org/pdf/1511.06434.pdf)\n",
        "def GeneralConv(dimension_numbers, out_chan, filter_shape,\n",
        "                strides=None, padding='VALID', W_init=None):\n",
        "    \"\"\"Layer construction function for a general convolution layer.\"\"\"\n",
        "    lhs_spec, rhs_spec, out_spec = dimension_numbers\n",
        "    one = (1,) * len(filter_shape)\n",
        "    strides = strides or one\n",
        "    W_init = W_init or initializers.glorot_normal(rhs_spec.index('I'), rhs_spec.index('O'))\n",
        "    def init_fun(rng, input_shape):\n",
        "        filter_shape_iter = iter(filter_shape)\n",
        "        kernel_shape = [out_chan if c == 'O' else\n",
        "                        input_shape[lhs_spec.index('C')] if c == 'I' else\n",
        "                        next(filter_shape_iter) for c in rhs_spec]\n",
        "        output_shape = lax.conv_general_shape_tuple(\n",
        "            input_shape, kernel_shape, strides, padding, dimension_numbers)\n",
        "        bias_shape = [out_chan if c == 'C' else 1 for c in out_spec]\n",
        "        W = W_init(rng, kernel_shape)\n",
        "        return output_shape, W\n",
        "    def apply_fun(params, inputs, **kwargs):\n",
        "        W = params\n",
        "        return lax.conv_general_dilated(inputs, W, strides, padding, one, one,\n",
        "                                        dimension_numbers=dimension_numbers)\n",
        "    return init_fun, apply_fun\n",
        "Conv = partial(GeneralConv, ('NHWC', 'HWIO', 'NHWC'))\n",
        "\n",
        "def GeneralConvTranspose(dimension_numbers, out_chan, filter_shape,\n",
        "                         strides=None, padding='VALID', W_init=None):\n",
        "    \"\"\"Layer construction function for a general transposed-convolution layer.\"\"\"\n",
        "    lhs_spec, rhs_spec, out_spec = dimension_numbers\n",
        "    one = (1,) * len(filter_shape)\n",
        "    strides = strides or one\n",
        "    W_init = W_init or initializers.glorot_normal(rhs_spec.index('I'), rhs_spec.index('O'))\n",
        "    def init_fun(rng, input_shape):\n",
        "        filter_shape_iter = iter(filter_shape)\n",
        "        kernel_shape = [out_chan if c == 'O' else\n",
        "                        input_shape[lhs_spec.index('C')] if c == 'I' else\n",
        "                        next(filter_shape_iter) for c in rhs_spec]\n",
        "        output_shape = lax.conv_transpose_shape_tuple(\n",
        "            input_shape, kernel_shape, strides, padding, dimension_numbers)\n",
        "        bias_shape = [out_chan if c == 'C' else 1 for c in out_spec]\n",
        "        W = W_init(rng, kernel_shape)\n",
        "        return output_shape, W\n",
        "    def apply_fun(params, inputs, **kwargs):\n",
        "        W = params\n",
        "        return lax.conv_transpose(inputs, W, strides, padding,\n",
        "                                  dimension_numbers=dimension_numbers)\n",
        "    return init_fun, apply_fun\n",
        "ConvTranspose = partial(GeneralConvTranspose, ('NHWC', 'HWIO', 'NHWC'))\n",
        "\n",
        "def elementwise(fun, **fun_kwargs):\n",
        "    \"\"\"Layer that applies a scalar function elementwise on its inputs.\"\"\"\n",
        "    init_fun = lambda rng, input_shape: (input_shape, ())\n",
        "    apply_fun = lambda params, inputs, **kwargs: fun(inputs, **fun_kwargs)\n",
        "    return init_fun, apply_fun\n",
        "\n",
        "LeakyRelu = elementwise(leaky_relu, negative_slope=0.2)"
      ],
      "execution_count": null,
      "outputs": []
    },
    {
      "cell_type": "code",
      "metadata": {
        "id": "1ibVd4JAyuW0"
      },
      "source": [
        "# All weights need to be initialized as ~N(0, 0.02)\n",
        "def Generator():\n",
        "    init_fun, conv_net = stax.serial(ConvTranspose(out_chan=1024, filter_shape=(4, 4), strides=(1, 1), padding=\"VALID\", W_init=initializers.normal(stddev=0.02)),\n",
        "                                    BatchNorm(), \n",
        "                                    Relu,\n",
        "                                    ConvTranspose(out_chan=512, filter_shape=(4, 4), strides=(2, 2), padding=\"SAME\", W_init=initializers.normal(stddev=0.02)),\n",
        "                                    BatchNorm(),\n",
        "                                    Relu,\n",
        "                                    ConvTranspose(out_chan=256, filter_shape=(4, 4), strides=(2, 2), padding=\"SAME\", W_init=initializers.normal(stddev=0.02)),\n",
        "                                    BatchNorm(), \n",
        "                                    Relu,\n",
        "                                    ConvTranspose(out_chan=128, filter_shape=(4, 4), strides=(2, 2), padding=\"SAME\", W_init=initializers.normal(stddev=0.02)),\n",
        "                                    BatchNorm(),\n",
        "                                    Relu,\n",
        "                                    ConvTranspose(out_chan=1, filter_shape=(4, 4), strides=(2, 2), padding=\"SAME\", W_init=initializers.normal(stddev=0.02)),\n",
        "                                    Tanh)\n",
        "    return init_fun, conv_net\n",
        "\n",
        "def Discriminator():\n",
        "    init_fun, conv_net = stax.serial(Conv(out_chan=128, filter_shape=(4, 4), strides=(2, 2), padding=\"SAME\", W_init=initializers.normal(stddev=0.02)),\n",
        "                                    LeakyRelu,\n",
        "                                    Conv(out_chan=256, filter_shape=(4, 4), strides=(2, 2), padding=\"SAME\", W_init=initializers.normal(stddev=0.02)),\n",
        "                                    BatchNorm(),\n",
        "                                    LeakyRelu,\n",
        "                                    Conv(out_chan=512, filter_shape=(4, 4), strides=(2, 2), padding=\"SAME\", W_init=initializers.normal(stddev=0.02)),\n",
        "                                    BatchNorm(), \n",
        "                                    LeakyRelu,\n",
        "                                    Conv(out_chan=1024, filter_shape=(4, 4), strides=(2, 2), padding=\"SAME\", W_init=initializers.normal(stddev=0.02)),\n",
        "                                    BatchNorm(),\n",
        "                                    LeakyRelu,\n",
        "                                    Conv(out_chan=1, filter_shape=(4, 4), strides=(1, 1), padding=\"VALID\", W_init=initializers.normal(stddev=0.02)))\n",
        "    return init_fun, conv_net"
      ],
      "execution_count": null,
      "outputs": []
    },
    {
      "cell_type": "code",
      "metadata": {
        "id": "bN79C54yuT8h"
      },
      "source": [
        "@vmap\n",
        "def bce_logits_loss(logit, label):\n",
        "    return np.maximum(logit, 0) - logit * label + np.log(1.0 + np.exp(-np.abs(logit)))"
      ],
      "execution_count": null,
      "outputs": []
    },
    {
      "cell_type": "code",
      "metadata": {
        "id": "cxn6Ok8x22we"
      },
      "source": [
        "class DCGAN:\n",
        "    # Initialize the class\n",
        "    def __init__(self, init_key):\n",
        "\n",
        "      # Set up network initialization and evaluation functions\n",
        "      self.G_init, self.G_apply = Generator()\n",
        "      self.D_init, self.D_apply = Discriminator()\n",
        "      \n",
        "      # Initialize parameters, not committing to a batch shape\n",
        "      k1, k2 = random.split(init_key, 2)\n",
        "      _, G_params = self.G_init(k1, (-1, 1, 1, 100))\n",
        "      _, D_params = self.D_init(k2, (-1, 64, 64, 1))\n",
        "                  \n",
        "      # Use optimizers to set optimizer initialization and update functions\n",
        "      self.G_opt_init, \\\n",
        "      self.G_opt_update, \\\n",
        "      self.G_get_params = optimizers.adam(2e-4, b1=0.5)\n",
        "      self.G_opt_state = self.G_opt_init(G_params)\n",
        "\n",
        "      self.D_opt_init, \\\n",
        "      self.D_opt_update, \\\n",
        "      self.D_get_params = optimizers.adam(2e-4, b1=0.5)\n",
        "      self.D_opt_state = self.D_opt_init(D_params)\n",
        "\n",
        "      # Logger\n",
        "      self.G_itercount = itertools.count()\n",
        "      self.D_itercount = itertools.count()\n",
        "      self.batch_count = itertools.count()\n",
        "      self.G_loss_log = []\n",
        "      self.D_loss_log = [] \n",
        "\n",
        "    @partial(jit, static_argnums=(0,))\n",
        "    def loss_G(self, G_params, D_params, batch):\n",
        "        _, Z = batch\n",
        "        # Generate fake image\n",
        "        fake_image = self.G_apply(G_params, Z)\n",
        "        # Evaluate discriminator output\n",
        "        fake_logits = self.D_apply(D_params, fake_image)\n",
        "        # The generator wants to fool the discriminator; that is, \n",
        "        # it wants the discriminator to assign high \n",
        "        # probability (close to 1) to the fake images it generates.\n",
        "        loss = np.mean(bce_logits_loss(fake_logits, np.ones_like(fake_logits)))\n",
        "        return loss\n",
        "\n",
        "    @partial(jit, static_argnums=(0,))\n",
        "    def loss_D(self, G_params, D_params, batch):\n",
        "        X, Z = batch\n",
        "        # Generate fake image\n",
        "        fake_image = self.G_apply(G_params, Z)\n",
        "        # Evaluate discriminator output\n",
        "        real_logits = self.D_apply(D_params, X)\n",
        "        fake_logits = self.D_apply(D_params, fake_image)\n",
        "        # Losses\n",
        "        real_loss = bce_logits_loss(real_logits, np.ones_like(real_logits))\n",
        "        fake_loss = bce_logits_loss(fake_logits, np.zeros_like(fake_logits))\n",
        "        loss = np.mean(real_loss + fake_loss)\n",
        "        return loss\n",
        "\n",
        "    # Define a compiled update step\n",
        "    @partial(jit, static_argnums=(0,))\n",
        "    def G_step(self, i, G_opt_state, D_opt_state, batch):\n",
        "        G_params = self.G_get_params(G_opt_state)\n",
        "        D_params = self.D_get_params(D_opt_state)\n",
        "        g = grad(self.loss_G, 0)(G_params, D_params, batch)\n",
        "        return self.G_opt_update(i, g, G_opt_state)\n",
        "\n",
        "    # Define a compiled update step\n",
        "    @partial(jit, static_argnums=(0,))\n",
        "    def D_step(self, i, G_opt_state, D_opt_state, batch):\n",
        "        G_params = self.G_get_params(G_opt_state)\n",
        "        D_params = self.D_get_params(D_opt_state)\n",
        "        g = grad(self.loss_D, 1)(G_params, D_params, batch)\n",
        "        return self.D_opt_update(i, g, D_opt_state)\n",
        "\n",
        "    @partial(jit, static_argnums=(0,))\n",
        "    def fetch_batch(self, rng_key, inputs):\n",
        "        batch_size = inputs.shape[0]\n",
        "        X = inputs.reshape(batch_size, 64, 64, 1) # Inputs need to be (batch_size, width, height, channels)\n",
        "        Z = random.normal(rng_key, (batch_size, 1, 1, 100))\n",
        "        return X, Z\n",
        "\n",
        "    # Optimize parameters in a loop\n",
        "    def train(self, train_loader, num_epochs = 20):\n",
        "        pbar = range(num_epochs)\n",
        "        for epoch in pbar:\n",
        "            # Run epoch\n",
        "            for batch_idx, (inputs, _) in enumerate(train_loader):\n",
        "                k1, k2 = random.split(random.PRNGKey(next(self.batch_count)), 2)\n",
        "                \n",
        "                # Update discriminator\n",
        "                batch = self.fetch_batch(k1, np.array(inputs))\n",
        "                self.D_opt_state = self.D_step(next(self.D_itercount), \n",
        "                                                    self.G_opt_state, \n",
        "                                                    self.D_opt_state,\n",
        "                                                    batch)\n",
        "                # Update generator\n",
        "                batch = self.fetch_batch(k2, np.array(inputs))\n",
        "                self.G_opt_state = self.G_step(next(self.G_itercount), \n",
        "                                                    self.G_opt_state, \n",
        "                                                    self.D_opt_state,\n",
        "                                                    batch)\n",
        "                # if batch_idx % 50 == 0:\n",
        "                #     print(\"epoch\", epoch, \"batch\", batch_idx)\n",
        "                #     G_params = self.G_get_params(self.G_opt_state)\n",
        "                #     D_params = self.D_get_params(self.D_opt_state)\n",
        "                #     loss_G = self.loss_G(G_params, D_params, batch)\n",
        "                #     loss_D = self.loss_D(G_params, D_params, batch)\n",
        "                #     print(\"loss_G\", loss_G, \"loss_D\", loss_D)\n",
        "\n",
        "            # Logger\n",
        "            G_params = self.G_get_params(self.G_opt_state)\n",
        "            D_params = self.D_get_params(self.D_opt_state)\n",
        "            loss_G = self.loss_G(G_params, D_params, batch)\n",
        "            loss_D = self.loss_D(G_params, D_params, batch)\n",
        "            self.G_loss_log.append(loss_G)\n",
        "            self.D_loss_log.append(loss_D)\n",
        "            pbar.set_postfix({'Generator loss': loss_G, 'Discriminator loss': loss_D})\n",
        "\n",
        "    @partial(jit, static_argnums=(0,))\n",
        "    def generate(self, rng_key, G_params):\n",
        "        Z = random.normal(rng_key, (1, 1, 1, 100))\n",
        "        fake_image = self.G_apply(G_params, Z)\n",
        "        return fake_image"
      ],
      "execution_count": null,
      "outputs": []
    },
    {
      "cell_type": "code",
      "metadata": {
        "id": "hganDiEj49SI",
        "colab": {
          "base_uri": "https://localhost:8080/",
          "height": 573,
          "referenced_widgets": [
            "f19e437150074fabb90cf19c2caf71cb",
            "107dec2af62546e1aba6e2e3b94ab87b",
            "2266a0076c70470ab09afa47794ce698",
            "4eed99ffde394815930c1f0fe09d5ff4",
            "bba01e085a0a43adb52aa9a2e231d642",
            "c7be715cff3842c4aaef26e40720595e",
            "98efe7b50d3b4192aa234fb26ee51e46",
            "21c6209d410245fba27e84e6732e2247",
            "e33b8420281349779357572b0c068caa",
            "300cc6b11f4745f6ae14e645465590c0",
            "3bcf11a7ba8140d781b297eaf38a8ba4",
            "9762f76c5f4746d384bbf65cd3feb36c",
            "f60c54300031462dbdf6025752680a84",
            "04855769c1d74011a131412ce7f193ed",
            "7ef297e96d68455391a6ac0ff41d14fa",
            "a03d0380f9c540c5a39eb4094420d69c",
            "2639b5083f8242bdbb2b0e039c69dde2",
            "db2307bf157243a29d1b181b57ed0e27",
            "478b52fff8e549d58637f19bc603cc24",
            "3d019cc8911b45dca437b4a503112bdd",
            "a4687d7d268c442495975ee217b0d51c",
            "7fd703827c0046c5a8e18bdd20211e25",
            "e8ea3f38ae9c4994b3e362ebe6006fb0",
            "33b46eff430545afba5f76dc062e08fe",
            "f5c225a4372f44c1b5507d43c2ce9c4f",
            "fd54e2fd55eb475a9e293c1359d86d5b",
            "29315ba002a34fcc8f2db36de2bec901",
            "8a69081acf124fa195739944e711ef8a",
            "797d5fbe6e2a46089a4bdc0ed34311a6",
            "84b79bb4323845ee8b7c0478e5d500b4",
            "f299a2f75e8f4830a82276a6fd2680ed",
            "4d690b8a4a52438186895ab309b12866"
          ]
        },
        "outputId": "59ffae3d-9e65-49c5-d243-a0ca8b32cd0a"
      },
      "source": [
        "# Data_loader\n",
        "img_size = 64\n",
        "batch_size = 128\n",
        "\n",
        "transform = transforms.Compose([\n",
        "        transforms.Resize(img_size),\n",
        "        transforms.ToTensor(),\n",
        "        transforms.Normalize(mean=(0.5), std=(0.5))\n",
        "])\n",
        "train_loader = torch.utils.data.DataLoader(\n",
        "    datasets.MNIST('data', train=True, download=True, transform=transform),\n",
        "    batch_size=batch_size, shuffle=True)"
      ],
      "execution_count": null,
      "outputs": [
        {
          "output_type": "stream",
          "text": [
            "Downloading http://yann.lecun.com/exdb/mnist/train-images-idx3-ubyte.gz\n",
            "Downloading http://yann.lecun.com/exdb/mnist/train-images-idx3-ubyte.gz to data/MNIST/raw/train-images-idx3-ubyte.gz\n"
          ],
          "name": "stdout"
        },
        {
          "output_type": "display_data",
          "data": {
            "application/vnd.jupyter.widget-view+json": {
              "model_id": "f19e437150074fabb90cf19c2caf71cb",
              "version_minor": 0,
              "version_major": 2
            },
            "text/plain": [
              "HBox(children=(FloatProgress(value=0.0, max=9912422.0), HTML(value='')))"
            ]
          },
          "metadata": {
            "tags": []
          }
        },
        {
          "output_type": "stream",
          "text": [
            "\n",
            "Extracting data/MNIST/raw/train-images-idx3-ubyte.gz to data/MNIST/raw\n",
            "\n",
            "Downloading http://yann.lecun.com/exdb/mnist/train-labels-idx1-ubyte.gz\n",
            "Downloading http://yann.lecun.com/exdb/mnist/train-labels-idx1-ubyte.gz to data/MNIST/raw/train-labels-idx1-ubyte.gz\n"
          ],
          "name": "stdout"
        },
        {
          "output_type": "display_data",
          "data": {
            "application/vnd.jupyter.widget-view+json": {
              "model_id": "e33b8420281349779357572b0c068caa",
              "version_minor": 0,
              "version_major": 2
            },
            "text/plain": [
              "HBox(children=(FloatProgress(value=0.0, max=28881.0), HTML(value='')))"
            ]
          },
          "metadata": {
            "tags": []
          }
        },
        {
          "output_type": "stream",
          "text": [
            "\n",
            "Extracting data/MNIST/raw/train-labels-idx1-ubyte.gz to data/MNIST/raw\n",
            "\n",
            "Downloading http://yann.lecun.com/exdb/mnist/t10k-images-idx3-ubyte.gz\n",
            "Downloading http://yann.lecun.com/exdb/mnist/t10k-images-idx3-ubyte.gz to data/MNIST/raw/t10k-images-idx3-ubyte.gz\n"
          ],
          "name": "stdout"
        },
        {
          "output_type": "display_data",
          "data": {
            "application/vnd.jupyter.widget-view+json": {
              "model_id": "2639b5083f8242bdbb2b0e039c69dde2",
              "version_minor": 0,
              "version_major": 2
            },
            "text/plain": [
              "HBox(children=(FloatProgress(value=0.0, max=1648877.0), HTML(value='')))"
            ]
          },
          "metadata": {
            "tags": []
          }
        },
        {
          "output_type": "stream",
          "text": [
            "\n",
            "Extracting data/MNIST/raw/t10k-images-idx3-ubyte.gz to data/MNIST/raw\n",
            "\n",
            "Downloading http://yann.lecun.com/exdb/mnist/t10k-labels-idx1-ubyte.gz\n",
            "Downloading http://yann.lecun.com/exdb/mnist/t10k-labels-idx1-ubyte.gz to data/MNIST/raw/t10k-labels-idx1-ubyte.gz\n"
          ],
          "name": "stdout"
        },
        {
          "output_type": "display_data",
          "data": {
            "application/vnd.jupyter.widget-view+json": {
              "model_id": "f5c225a4372f44c1b5507d43c2ce9c4f",
              "version_minor": 0,
              "version_major": 2
            },
            "text/plain": [
              "HBox(children=(FloatProgress(value=0.0, max=4542.0), HTML(value='')))"
            ]
          },
          "metadata": {
            "tags": []
          }
        },
        {
          "output_type": "stream",
          "text": [
            "\n",
            "Extracting data/MNIST/raw/t10k-labels-idx1-ubyte.gz to data/MNIST/raw\n",
            "\n",
            "Processing...\n",
            "Done!\n"
          ],
          "name": "stdout"
        },
        {
          "output_type": "stream",
          "text": [
            "/usr/local/lib/python3.7/dist-packages/torchvision/datasets/mnist.py:502: UserWarning: The given NumPy array is not writeable, and PyTorch does not support non-writeable tensors. This means you can write to the underlying (supposedly non-writeable) NumPy array using the tensor. You may want to copy the array to protect its data or make it writeable before converting it to a tensor. This type of warning will be suppressed for the rest of this program. (Triggered internally at  /pytorch/torch/csrc/utils/tensor_numpy.cpp:143.)\n",
            "  return torch.from_numpy(parsed.astype(m[2], copy=False)).view(*s)\n"
          ],
          "name": "stderr"
        }
      ]
    },
    {
      "cell_type": "code",
      "metadata": {
        "id": "uUOnW8w-Fpjn"
      },
      "source": [
        "# Initialize model\n",
        "init_key = random.PRNGKey(0)\n",
        "model = DCGAN(init_key)"
      ],
      "execution_count": null,
      "outputs": []
    },
    {
      "cell_type": "code",
      "metadata": {
        "id": "jy3eIw7KGQqZ",
        "colab": {
          "base_uri": "https://localhost:8080/"
        },
        "outputId": "b094a40d-3261-4a0d-d184-185aefb5c3fe"
      },
      "source": [
        "model.train(train_loader, num_epochs = 5)"
      ],
      "execution_count": null,
      "outputs": [
        {
          "output_type": "stream",
          "text": [
            "epoch 0 batch 0\n",
            "loss_G 3.6200285 loss_D 0.099777065\n",
            "epoch 0 batch 50\n",
            "loss_G 4.3076735 loss_D 0.326254\n",
            "epoch 0 batch 100\n",
            "loss_G 1.4756033 loss_D 0.6147264\n",
            "epoch 0 batch 150\n",
            "loss_G 0.81356525 loss_D 0.9603164\n",
            "epoch 0 batch 200\n",
            "loss_G 2.435968 loss_D 0.55985516\n",
            "epoch 0 batch 250\n",
            "loss_G 3.0888555 loss_D 0.4846943\n",
            "epoch 0 batch 300\n",
            "loss_G 1.9140736 loss_D 0.37077802\n",
            "epoch 0 batch 350\n",
            "loss_G 4.1591787 loss_D 1.1351691\n",
            "epoch 0 batch 400\n",
            "loss_G 2.7491345 loss_D 0.14937179\n",
            "epoch 0 batch 450\n",
            "loss_G 2.4770048 loss_D 0.14643025\n",
            "epoch 1 batch 0\n",
            "loss_G 8.769291 loss_D 5.7173853\n",
            "epoch 1 batch 50\n",
            "loss_G 0.77971566 loss_D 1.1956851\n",
            "epoch 1 batch 100\n",
            "loss_G 4.322681 loss_D 1.3818758\n",
            "epoch 1 batch 150\n",
            "loss_G 2.7830806 loss_D 0.44235975\n",
            "epoch 1 batch 200\n",
            "loss_G 3.25793 loss_D 0.1593033\n",
            "epoch 1 batch 250\n",
            "loss_G 3.5439448 loss_D 0.22083515\n",
            "epoch 1 batch 300\n",
            "loss_G 4.207341 loss_D 0.039850708\n",
            "epoch 1 batch 350\n",
            "loss_G 1.0999117 loss_D 0.7088837\n",
            "epoch 1 batch 400\n",
            "loss_G 3.2654324 loss_D 0.9974232\n",
            "epoch 1 batch 450\n",
            "loss_G 1.3303854 loss_D 0.5802965\n",
            "epoch 2 batch 0\n",
            "loss_G 0.51342595 loss_D 1.4541993\n",
            "epoch 2 batch 50\n",
            "loss_G 0.6317907 loss_D 1.2878132\n",
            "epoch 2 batch 100\n",
            "loss_G 2.1132236 loss_D 0.25059113\n",
            "epoch 2 batch 150\n",
            "loss_G 3.1026278 loss_D 0.27682355\n",
            "epoch 2 batch 200\n",
            "loss_G 0.741997 loss_D 1.0686722\n",
            "epoch 2 batch 250\n",
            "loss_G 3.7597537 loss_D 0.12883678\n",
            "epoch 2 batch 300\n",
            "loss_G 4.213877 loss_D 0.038927123\n",
            "epoch 2 batch 350\n",
            "loss_G 3.6451325 loss_D 0.13647212\n",
            "epoch 2 batch 400\n",
            "loss_G 0.32898524 loss_D 2.0093324\n",
            "epoch 2 batch 450\n",
            "loss_G 0.97660035 loss_D 0.78570557\n",
            "epoch 3 batch 0\n",
            "loss_G 2.3769655 loss_D 0.44202542\n",
            "epoch 3 batch 50\n",
            "loss_G 4.588477 loss_D 0.9573216\n",
            "epoch 3 batch 100\n",
            "loss_G 2.1008718 loss_D 0.48088467\n",
            "epoch 3 batch 150\n",
            "loss_G 1.5272858 loss_D 0.48037344\n",
            "epoch 3 batch 200\n",
            "loss_G 2.5504098 loss_D 0.68039274\n",
            "epoch 3 batch 250\n",
            "loss_G 0.43158692 loss_D 1.6587107\n",
            "epoch 3 batch 300\n",
            "loss_G 1.3172299 loss_D 0.5197488\n",
            "epoch 3 batch 350\n",
            "loss_G 1.3709469 loss_D 0.67174417\n",
            "epoch 3 batch 400\n",
            "loss_G 0.6515832 loss_D 1.2093344\n",
            "epoch 3 batch 450\n",
            "loss_G 0.7563574 loss_D 0.96738225\n",
            "epoch 4 batch 0\n",
            "loss_G 1.7285843 loss_D 0.34972388\n",
            "epoch 4 batch 50\n",
            "loss_G 3.1520593 loss_D 0.11166179\n",
            "epoch 4 batch 100\n",
            "loss_G 2.080614 loss_D 0.445036\n",
            "epoch 4 batch 150\n",
            "loss_G 2.4221563 loss_D 0.62693685\n",
            "epoch 4 batch 200\n",
            "loss_G 1.3678159 loss_D 0.7678407\n",
            "epoch 4 batch 250\n",
            "loss_G 0.3241252 loss_D 2.071714\n",
            "epoch 4 batch 300\n",
            "loss_G 3.4474878 loss_D 0.27435875\n",
            "epoch 4 batch 350\n",
            "loss_G 2.656784 loss_D 0.13649929\n",
            "epoch 4 batch 400\n",
            "loss_G 2.1843631 loss_D 0.44640687\n",
            "epoch 4 batch 450\n",
            "loss_G 2.7309825 loss_D 0.4452737\n"
          ],
          "name": "stdout"
        }
      ]
    },
    {
      "cell_type": "code",
      "metadata": {
        "colab": {
          "base_uri": "https://localhost:8080/",
          "height": 297
        },
        "id": "C1a-TiJQOrHh",
        "outputId": "9d6e7ce0-b87a-49e2-9979-c0db9b414aef"
      },
      "source": [
        "plt.figure()\n",
        "plt.plot(model.G_loss_log, lw = 2, label = 'Generator loss')\n",
        "plt.plot(model.D_loss_log, lw = 2, label = 'Discriminator loss')\n",
        "plt.legend()\n",
        "plt.xlabel('epoch')\n",
        "plt.xlabel('loss')\n",
        "plt.tight_layout()"
      ],
      "execution_count": null,
      "outputs": [
        {
          "output_type": "display_data",
          "data": {
            "image/png": "[encoded data removed]",
            "text/plain": [
              "<Figure size 432x288 with 1 Axes>"
            ]
          },
          "metadata": {
            "tags": [],
            "needs_background": "light"
          }
        }
      ]
    },
    {
      "cell_type": "code",
      "metadata": {
        "id": "NzvtT8lRGYHa"
      },
      "source": [
        "# Generate some samples\n",
        "num_samples = 128\n",
        "Z = random.normal(random.PRNGKey(0), (num_samples, 1, 1, 100))\n",
        "G_params = model.G_get_params(model.G_opt_state)\n",
        "images = model.G_apply(G_params, Z)"
      ],
      "execution_count": null,
      "outputs": []
    },
    {
      "cell_type": "code",
      "metadata": {
        "id": "YKW0qZzlSKPH",
        "colab": {
          "base_uri": "https://localhost:8080/",
          "height": 1000
        },
        "outputId": "23c8032c-cc4c-4c58-80ab-f6cb02d672ff"
      },
      "source": [
        "# plot some samples\n",
        "print(image.shape)\n",
        "for k in range(10):\n",
        "  fig = plt.figure(k)\n",
        "  plt.imshow(images[k,:,:,0], cmap='gray')\n",
        "  plt.show()"
      ],
      "execution_count": null,
      "outputs": [
        {
          "output_type": "stream",
          "text": [
            "(128, 64, 64, 1)\n"
          ],
          "name": "stdout"
        },
        {
          "output_type": "display_data",
          "data": {
            "image/png": "[encoded data removed]",
            "text/plain": [
              "<Figure size 432x288 with 1 Axes>"
            ]
          },
          "metadata": {
            "tags": [],
            "needs_background": "light"
          }
        },
        {
          "output_type": "display_data",
          "data": {
            "image/png": "[encoded data removed]",
            "text/plain": [
              "<Figure size 432x288 with 1 Axes>"
            ]
          },
          "metadata": {
            "tags": [],
            "needs_background": "light"
          }
        },
        {
          "output_type": "display_data",
          "data": {
            "image/png": "[encoded data removed]",
            "text/plain": [
              "<Figure size 432x288 with 1 Axes>"
            ]
          },
          "metadata": {
            "tags": [],
            "needs_background": "light"
          }
        },
        {
          "output_type": "display_data",
          "data": {
            "image/png": "[encoded data removed]",
            "text/plain": [
              "<Figure size 432x288 with 1 Axes>"
            ]
          },
          "metadata": {
            "tags": [],
            "needs_background": "light"
          }
        },
        {
          "output_type": "display_data",
          "data": {
            "image/png": "[encoded data removed]",
            "text/plain": [
              "<Figure size 432x288 with 1 Axes>"
            ]
          },
          "metadata": {
            "tags": [],
            "needs_background": "light"
          }
        },
        {
          "output_type": "display_data",
          "data": {
            "image/png": "[encoded data removed]",
            "text/plain": [
              "<Figure size 432x288 with 1 Axes>"
            ]
          },
          "metadata": {
            "tags": [],
            "needs_background": "light"
          }
        },
        {
          "output_type": "display_data",
          "data": {
            "image/png": "[encoded data removed]",
            "text/plain": [
              "<Figure size 432x288 with 1 Axes>"
            ]
          },
          "metadata": {
            "tags": [],
            "needs_background": "light"
          }
        },
        {
          "output_type": "display_data",
          "data": {
            "image/png": "[encoded data removed]",
            "text/plain": [
              "<Figure size 432x288 with 1 Axes>"
            ]
          },
          "metadata": {
            "tags": [],
            "needs_background": "light"
          }
        },
        {
          "output_type": "display_data",
          "data": {
            "image/png": "[encoded data removed]",
            "text/plain": [
              "<Figure size 432x288 with 1 Axes>"
            ]
          },
          "metadata": {
            "tags": [],
            "needs_background": "light"
          }
        },
        {
          "output_type": "display_data",
          "data": {
            "image/png": "[encoded data removed]",
            "text/plain": [
              "<Figure size 432x288 with 1 Axes>"
            ]
          },
          "metadata": {
            "tags": [],
            "needs_background": "light"
          }
        }
      ]
    }
  ]
}