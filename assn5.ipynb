{
  "cells": [
    {
      "cell_type": "markdown",
      "metadata": {
        "id": "5riegffJnpgN"
      },
      "source": [
        "# Assignment 5\n",
        "\n",
        "## Problem 1 [20 Points]\n",
        "\n",
        "Consider the following functions which are indexed by increasing levels of fidelity:\n",
        "\n",
        "$$f_3(x) = \\left(\\frac{-1.275 x_1^2}{\\pi^2} + \\frac{5x_1}{\\pi} + x_2 - 6 \\right)^2 + \\left(10 - \\frac{5}{4 \\pi}\\right) \\cos(x_1) + 10,$$\n",
        "$$f_2(x) = 10 \\sqrt{f_3(x - 2)} + 2(x_1 - 0.5) - 3(3x_2 - 1) - 1$$\n",
        "$$f_1(x) = f_2(1.2(x + 2)) - 3x_2 + 1.$$\n",
        "\n",
        "Given a set of noiseless multi-fidelity observations of $f_1$, $f_2$ and $f_3$,  train a multi-fidelity GP that can approximate the highest fidelity function $f_3$. Considering $n_1 = 80, n_2 = 40, n_3 = 20$ observations for each of the functions, obtained by randomly sampling in $[-5, 10] \\times [0, 15]$, find the relative $\\mathbb{L}_2$ error of the high-fidelty function on a test-grid. Report your performance over 100 different trials.\n"
      ]
    },
    {
      "cell_type": "code",
      "execution_count": null,
      "metadata": {
        "vscode": {
          "languageId": "plaintext"
        },
        "id": "F7d13z4UnpgN"
      },
      "outputs": [],
      "source": [
        "# your code here"
      ]
    },
    {
      "cell_type": "markdown",
      "metadata": {
        "id": "2FB2Ys3snpgO"
      },
      "source": [
        "\n",
        "## Problem 2 [20 Points]\n",
        "\n",
        "i) Consider the following definitions for a kernel $K(x, x')$:\n",
        "- Definition A: $K(x, x')$ is valid if there exist a mapping function $\\phi(x)$ that $K(x, x') = \\phi(x)^T \\phi(x')$\n",
        "- Definition B: $K(x, x')$ is valid if for any finite set of training examples $x_1, \\cdots, x_n$, the matrix $K$ with elements defined as $K_{ij} = K(x_i, x_j)$ is positive semidefinite.\n",
        "\n",
        "Show that Definition A $\\implies$ Definition B. Would $K(x, x') = \\tanh(x\\cdot x' - 1)$ be a valid kernel?\n",
        "\n",
        "ii) One way to build valid kernels is by constructing them from simpler kernel functions: assuming $K_1(x, x')$ and $K_2(x, x')$ are kernels\n",
        "- Scaling: $f(x) K(x, x') f(x')$\n",
        "- Sum: $K_1(x, x') + K_2(x, x')$\n",
        "- Product: $K_1(x, x') K_2(x, x')$\n",
        "\n",
        "Prove that these operations result in a valid kernel function. Do note that the feature vectors of different kernels may be of different length.\n",
        "\n",
        "iii) Using kernels $K_0(x, x') = 1$ and $K_1(x, x') = x^T x'$ propose steps to arrive at the kernel using the earlier steps:\n",
        "\n",
        "$$K(x, x') = \\left(1 + \\left(\\frac{x}{\\|x\\|}\\right)^T \\left(\\frac{x'}{\\|x'\\|}\\right)\\right)^3$$\n"
      ]
    },
    {
      "cell_type": "markdown",
      "metadata": {
        "id": "33YbgRgmnpgO"
      },
      "source": [
        "### Answer"
      ]
    },
    {
      "cell_type": "markdown",
      "source": [],
      "metadata": {
        "id": "bBdpglAEn00f"
      }
    },
    {
      "cell_type": "markdown",
      "metadata": {
        "id": "dKLIXcU4npgO"
      },
      "source": [
        "\n",
        "\n",
        "## Problem 3 [20 Points]\n",
        "Consider the Helmholtz equation in one dimension:\n",
        "\n",
        "$$\\frac{\\partial^{2}}{\\partial{x}^2}u(x) - \\gamma u(x) = f(x), \\ \\ x\\in[-1,1].$$\n",
        "\n",
        "The exact solution for this problem is $u(x) = \\sin(\\pi x)$, corresponding to $f(x) = -\\pi^2 \\sin(\\pi x) - \\gamma \\sin(\\pi x)$. First, consider $\\gamma = 5\\sqrt{2}$ and generate a training data-set $\\{X_u,y_u\\}$ and $\\{X_f,y_f\\}$ by sampling the exact solution for $u(x)$ and $f(x)$, respectively. Specifically, use $N_u=3$ and $N_f=10$ data points sampled randomly on a Latin Hypercube grid.\n",
        "\n",
        "Then use this data-set to train the following Gaussian process model in order to predict the underlying functions $u(x)$ and $f(x)$, as well as to learn the unknown parameter $\\gamma$:\n",
        "\n",
        "$u(x)\\sim\\mathcal{GP}(0, k(x,x', \\theta)), \\qquad f(x)\\sim\\mathcal{GP}(0, g(x,x';\\theta, \\gamma))$,\n",
        "\n",
        "where $g(x,x';\\theta, \\gamma) = \\mathcal{L}_{x}^{\\gamma}\\mathcal{L}^{\\gamma}_{x'}k(x,x';\\theta)$, $\\mathcal{L}_{x}^{\\gamma}:= \\frac{\\partial^{2}}{\\partial{x}^2} - \\gamma$, and  $k(x,x';\\theta)$ is the standard RBF kernel. Use symbolic calculations to construct the necessary kernels and note how $\\gamma$ becomes a kernel hyper-parameter for  $g(x,x';\\theta, \\gamma)$ ([reference](https://www.sciencedirect.com/science/article/pii/S0021999117305582)). Plot your predictions for $u(x)$ and $f(x)$ against the exact solution, and report their relative error in the $\\mathbb{L}_2$ norm. Also report the predicted value for $\\gamma$ and the corresponding %-error with respect to the exact value of $5\\sqrt{2}$.\n"
      ]
    },
    {
      "cell_type": "code",
      "execution_count": null,
      "metadata": {
        "vscode": {
          "languageId": "plaintext"
        },
        "id": "ifW8b9MRnpgO"
      },
      "outputs": [],
      "source": [
        "# your code here"
      ]
    },
    {
      "cell_type": "markdown",
      "metadata": {
        "id": "zWAu1gK-npgP"
      },
      "source": [
        "## Problem 4 [20 Points]\n",
        "\n",
        "Modify the provided [active learning tutorial](https://github.com/PredictiveIntelligenceLab/ENM531/blob/main/Notebooks/active_learning.ipynb) to implement a Bayesian optimization loop for minimizing the two-dimensional [Michalewicz  function](https://www.sfu.ca/~ssurjano/michal.html), using the following acquisition functions:\n",
        "\n",
        "- Probability of Improvement:\n",
        "\n",
        "$$\\alpha(x;\\mathcal{D}) := \\Phi(f_{\\text{min}}\\lvert \\mu(x), \\Sigma(x))$$\n",
        "\n",
        "- Expected Improvement:\n",
        "\n",
        "$$\\alpha(x;\\mathcal{D}) := (f_{\\text{min}} - \\mu(x)) \\Phi(f_{\\text{min}}\\lvert \\mu(x), \\Sigma(x)) + \\Sigma(x) \\mathcal{N}(f_{\\text{min}}\\lvert \\mu(x), \\Sigma(x))$$\n",
        "\n",
        "- Upper Confidence Bound:\n",
        "\n",
        "$$\\alpha(x;\\mathcal{D}) := \\mu(x) + 2 \\Sigma(x)$$\n",
        "\n",
        "where $\\mu(x)$ and $\\Sigma(x)$ denotes the posterior mean and posterior standard deviation, respectively, of a Gaussian process model trained on a regression data-set $\\mathcal{D}$. Compare the convergence of the different acquisition criteria by simulating each case over $25$ independent trials, starting from a randomized initial experimental design."
      ]
    },
    {
      "cell_type": "code",
      "execution_count": null,
      "metadata": {
        "vscode": {
          "languageId": "plaintext"
        },
        "id": "UQrEH7WtnpgP"
      },
      "outputs": [],
      "source": [
        "# your code here"
      ]
    },
    {
      "cell_type": "markdown",
      "metadata": {
        "id": "Zs19YJVcnpgP"
      },
      "source": [
        "\n",
        "## Problem 5 [20 Points]\n",
        "\n",
        "You will be emailed a project-proposal of another student. Read the proposal and write a short review of the project. Assign the project a rating out of 10. Address the following:\n",
        "- **Clarity and organization**: Is the proposal clearly written and well-structured? Does it effectively communicate the proposed problem, the challenges to be addressed, the current state-of-the-art, the formal mathematical definition of the problem, and the technical approach to be employed?\n",
        "- **Feasibility**: Is the proposed project feasible given the available resources and time constraints? Are the proposed methods likely to be effective in addressing the identified challenges?\n",
        "- **Originality and significance**: Does the proposed project address an important problem in the field? Does it build upon existing work in a novel and interesting way? Does it have the potential to make a significant impact on the field?\n",
        "- **Technical rigor**: Is the formal mathematical definition of the problem accurate and well-supported? Are the proposed technical approaches rigorous and well-suited to the problem at hand?\n"
      ]
    },
    {
      "cell_type": "markdown",
      "metadata": {
        "id": "5VUrGfXKnpgP"
      },
      "source": [
        "### Answer"
      ]
    },
    {
      "cell_type": "markdown",
      "metadata": {
        "id": "TLkPADR6npgP"
      },
      "source": [
        "\n",
        "## Problem 6 [Bonus 20 Points]\n",
        "\n",
        "Consider the mapping of the input variable $x$ to RKHS $\\mathcal{H}$,with the kernel $k(x, x') = \\langle \\phi(x), \\phi(x') \\rangle_\\mathcal{H}$, where $\\phi(x)$ is the feature map of the kernel. We introduce the notation:\n",
        "\n",
        "$$\n",
        "\\Phi_n = [\\phi(x_1), \\phi(x_2), \\cdots, \\phi(x_n)] \\\\\n",
        "\\Phi_n^T f = [\\langle \\phi(x_1), f \\rangle_\\mathcal{H}, \\langle \\phi(x_2), f \\rangle_\\mathcal{H}, \\cdots, \\langle \\phi(x_n), f \\rangle_\\mathcal{H}]^T\n",
        "$$\n",
        "\n",
        "We can define the kernel matrix $K_n$ with the entries $K_{ij} = k(x_i, x_j)$, and where using the above notation can be represented as $\\Phi_n^T \\Phi_n$.\n",
        "\n",
        "(1) What is the expression for the projection $P_n$ that tkaes an RKHS function $f \\in \\mathcal{H}$ and projects it onto a function $f_n = P_n f$ in the span of $\\Phi_n$? Assume that the kernel matrix $K_n$ full-rank and invertible.\n",
        "\n",
        "(2) Consider the gram matrix $K_n = \\Phi_n^T \\Phi_n$. What form does this taken when we replace each entry $\\phi(x_i)$ in $\\Phi_n$ by its projection $P_m \\phi (x_i)$\n",
        "\n",
        "(3) Show that the operator $\\Phi_n \\Phi_n^T$ is a positive operator. That is,\n",
        "$$\\langle f, [\\Phi_n \\Phi_n^T] f \\rangle \\geq 0, \\qquad \\forall f \\in \\mathcal{F}$$\n",
        "\n",
        "Additionally, show that this operator cannot have negative eigenvalues."
      ]
    },
    {
      "cell_type": "markdown",
      "metadata": {
        "id": "dj5Uh4jmnpgP"
      },
      "source": [
        "### Answer"
      ]
    }
  ],
  "metadata": {
    "language_info": {
      "name": "python"
    },
    "orig_nbformat": 4,
    "colab": {
      "provenance": []
    }
  },
  "nbformat": 4,
  "nbformat_minor": 0
}